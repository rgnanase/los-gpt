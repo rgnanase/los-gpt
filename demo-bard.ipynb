{
 "cells": [
  {
   "cell_type": "code",
   "execution_count": null,
   "metadata": {
    "collapsed": true
   },
   "outputs": [],
   "source": [
    "import os\n",
    "from dotenv import dotenv_values\n",
    "env_vars = dotenv_values('.env')\n",
    "os.environ[\"BARD_API_KEY\"] =  env_vars['BARD_API_KEY']"
   ]
  },
  {
   "cell_type": "markdown",
   "source": [
    "The bard api works with my personal API key, but I don't think it supports embeddings yet, and it is not yet supported by langchain.\n",
    "```\n",
    "curl \\\n",
    "-H 'Content-Type: application/json' \\\n",
    "-d '{ \"prompt\": { \"text\": \"Write a story about a magic backpack\"} }' \\\n",
    "\"https://generativelanguage.googleapis.com/v1beta2/models/text-bison-001:generateText?key=zzz\"\n",
    "```"
   ],
   "metadata": {
    "collapsed": false
   }
  }
 ],
 "metadata": {
  "kernelspec": {
   "display_name": "Python 3",
   "language": "python",
   "name": "python3"
  },
  "language_info": {
   "codemirror_mode": {
    "name": "ipython",
    "version": 2
   },
   "file_extension": ".py",
   "mimetype": "text/x-python",
   "name": "python",
   "nbconvert_exporter": "python",
   "pygments_lexer": "ipython2",
   "version": "2.7.6"
  }
 },
 "nbformat": 4,
 "nbformat_minor": 0
}
