{
 "cells": [
  {
   "cell_type": "code",
   "execution_count": 1,
   "outputs": [],
   "source": [
    "from langchain.document_loaders import DirectoryLoader\n",
    "loader = DirectoryLoader('./docs', glob=\"**/*.txt\")\n",
    "documents = loader.load()\n"
   ],
   "metadata": {
    "collapsed": false,
    "ExecuteTime": {
     "start_time": "2023-06-12T10:43:43.681345Z",
     "end_time": "2023-06-12T10:43:43.681484Z"
    }
   }
  },
  {
   "cell_type": "code",
   "execution_count": 2,
   "outputs": [],
   "source": [
    "from langchain.text_splitter import RecursiveCharacterTextSplitter\n",
    "text_splitter = RecursiveCharacterTextSplitter(chunk_size=512, chunk_overlap=64)\n",
    "texts = text_splitter.split_documents(documents)"
   ],
   "metadata": {
    "collapsed": false,
    "ExecuteTime": {
     "start_time": "2023-06-12T10:43:49.281345Z",
     "end_time": "2023-06-12T10:43:49.281444Z"
    }
   }
  },
  {
   "cell_type": "code",
   "execution_count": 3,
   "outputs": [],
   "source": [
    "from langchain.embeddings import HuggingFaceEmbeddings\n",
    "embeddings = HuggingFaceEmbeddings(model_name=\"sentence-transformers/all-MiniLM-L6-v2\")"
   ],
   "metadata": {
    "collapsed": false,
    "ExecuteTime": {
     "start_time": "2023-06-12T10:43:54.096406Z",
     "end_time": "2023-06-12T10:43:54.096507Z"
    }
   }
  },
  {
   "cell_type": "code",
   "execution_count": 4,
   "outputs": [],
   "source": [
    "from langchain.vectorstores import Chroma\n",
    "db = Chroma.from_documents(texts, embeddings, persist_directory=\"db_local\")"
   ],
   "metadata": {
    "collapsed": false,
    "ExecuteTime": {
     "start_time": "2023-06-12T10:44:01.409006Z",
     "end_time": "2023-06-12T10:44:01.409119Z"
    }
   }
  },
  {
   "cell_type": "code",
   "execution_count": 5,
   "outputs": [
    {
     "name": "stdout",
     "output_type": "stream",
     "text": [
      "Found model file at  ./models/ggml-gpt4all-j-v1.3-groovy.bin\n",
      "gptj_model_load: loading model from './models/ggml-gpt4all-j-v1.3-groovy.bin' - please wait ...\n",
      "gptj_model_load: n_vocab = 50400\n",
      "gptj_model_load: n_ctx   = 2048\n",
      "gptj_model_load: n_embd  = 4096\n",
      "gptj_model_load: n_head  = 16\n",
      "gptj_model_load: n_layer = 28\n",
      "gptj_model_load: n_rot   = 64\n",
      "gptj_model_load: f16     = 2\n",
      "gptj_model_load: ggml ctx size = 5401.45 MB\n",
      "gptj_model_load: kv self size  =  896.00 MB\n",
      "gptj_model_load: ................................... done\n",
      "gptj_model_load: model size =  3609.38 MB / num tensors = 285\n"
     ]
    }
   ],
   "source": [
    "from langchain.llms import GPT4All\n",
    "model_path = \"./models/ggml-gpt4all-j-v1.3-groovy.bin\"\n",
    "llm = GPT4All(model=model_path, n_ctx=2048, backend=\"gptj\", verbose=False)"
   ],
   "metadata": {
    "collapsed": false,
    "ExecuteTime": {
     "start_time": "2023-06-12T10:44:05.620375Z",
     "end_time": "2023-06-12T10:44:05.620452Z"
    }
   }
  },
  {
   "cell_type": "code",
   "execution_count": 7,
   "outputs": [],
   "source": [
    "from langchain.chains import RetrievalQA\n",
    "qa = RetrievalQA.from_chain_type(\n",
    "    llm=llm,\n",
    "    chain_type=\"stuff\",\n",
    "    retriever=db.as_retriever(search_kwargs={\"k\": 2}),\n",
    "    return_source_documents=True,\n",
    "    verbose=False\n",
    ")"
   ],
   "metadata": {
    "collapsed": false,
    "ExecuteTime": {
     "start_time": "2023-06-12T10:44:30.586686Z",
     "end_time": "2023-06-12T10:44:30.586782Z"
    }
   }
  },
  {
   "cell_type": "markdown",
   "source": [
    "The block below will verify we are reading data from the vector database.  It puts a verification.pdf file in the /docs folder with a keyword in it.  You'll see from the response it is putting a colon in the keyword for some reason, so maybe a parsing issue. Also, the 7B local model is not so good."
   ],
   "metadata": {
    "collapsed": false
   }
  },
  {
   "cell_type": "code",
   "execution_count": 8,
   "outputs": [
    {
     "name": "stdout",
     "output_type": "stream",
     "text": [
      " UMD\n",
      "{'query': 'What is the UMD20 verification keyword? Extract it from the text. Print only the keyword and nothing else.', 'result': ' UMD', 'source_documents': [Document(page_content='UMD20 verification keyword is 213sd834d', metadata={'source': 'docs/verification.txt'}), Document(page_content='provider will need to include 9-digit UID number on the check. The check can then be mailed in or dropped off in person. If the check is written to both the Student and The University of Maryland: The student will first need to endorse the check (sign the back of the check on the endorsement line). The student/scholarship provider will also need to include 9-digit UID number on the check. The check can then be mailed in or dropped off in person. If the check is written just to the Student: The student will', metadata={'source': 'docs/bursar.txt'})]}\n"
     ]
    }
   ],
   "source": [
    "# Note if you look in the response you can see some limitations. It looks like the parsing put a colon in the keyword, and the local model\n",
    "res = qa(\"What is the UMD20 verification keyword? Extract it from the text. Print only the keyword and nothing else.\")\n",
    "print(res)"
   ],
   "metadata": {
    "collapsed": false,
    "ExecuteTime": {
     "start_time": "2023-06-12T10:44:46.146303Z",
     "end_time": "2023-06-12T10:44:46.146387Z"
    }
   }
  },
  {
   "cell_type": "code",
   "execution_count": 56,
   "outputs": [],
   "source": [],
   "metadata": {
    "collapsed": false,
    "ExecuteTime": {
     "start_time": "2023-06-09T11:41:45.736181Z",
     "end_time": "2023-06-09T11:41:45.747578Z"
    }
   }
  }
 ],
 "metadata": {
  "kernelspec": {
   "display_name": "Python 3",
   "language": "python",
   "name": "python3"
  },
  "language_info": {
   "codemirror_mode": {
    "name": "ipython",
    "version": 2
   },
   "file_extension": ".py",
   "mimetype": "text/x-python",
   "name": "python",
   "nbconvert_exporter": "python",
   "pygments_lexer": "ipython2",
   "version": "2.7.6"
  }
 },
 "nbformat": 4,
 "nbformat_minor": 0
}
